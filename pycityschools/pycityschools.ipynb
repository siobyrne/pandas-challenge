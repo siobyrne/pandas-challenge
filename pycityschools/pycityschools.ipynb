{
 "cells": [
  {
   "cell_type": "code",
   "execution_count": 72,
   "id": "8fa52373",
   "metadata": {},
   "outputs": [],
   "source": [
    "import pandas as pd\n"
   ]
  },
  {
   "cell_type": "code",
   "execution_count": 73,
   "id": "a3968014",
   "metadata": {},
   "outputs": [],
   "source": [
    "# create dataframes\n",
    "\n",
    "schools_df = pd.read_csv('resources/schools_complete.csv')\n",
    "students_df = pd.read_csv('resources/students_complete.csv')\n",
    "\n",
    "# merge into one dataframe \n",
    "merged_df = pd.merge(schools_df, students_df, on=\"school_name\")\n"
   ]
  },
  {
   "cell_type": "code",
   "execution_count": 74,
   "id": "8b086bb6",
   "metadata": {},
   "outputs": [
    {
     "data": {
      "text/html": [
       "<div>\n",
       "<style scoped>\n",
       "    .dataframe tbody tr th:only-of-type {\n",
       "        vertical-align: middle;\n",
       "    }\n",
       "\n",
       "    .dataframe tbody tr th {\n",
       "        vertical-align: top;\n",
       "    }\n",
       "\n",
       "    .dataframe thead th {\n",
       "        text-align: right;\n",
       "    }\n",
       "</style>\n",
       "<table border=\"1\" class=\"dataframe\">\n",
       "  <thead>\n",
       "    <tr style=\"text-align: right;\">\n",
       "      <th></th>\n",
       "      <th>School ID</th>\n",
       "      <th>school_name</th>\n",
       "      <th>type</th>\n",
       "      <th>size</th>\n",
       "      <th>budget</th>\n",
       "      <th>Student ID</th>\n",
       "      <th>student_name</th>\n",
       "      <th>gender</th>\n",
       "      <th>grade</th>\n",
       "      <th>reading_score</th>\n",
       "      <th>math_score</th>\n",
       "    </tr>\n",
       "  </thead>\n",
       "  <tbody>\n",
       "    <tr>\n",
       "      <th>0</th>\n",
       "      <td>0</td>\n",
       "      <td>Huang High School</td>\n",
       "      <td>District</td>\n",
       "      <td>2917</td>\n",
       "      <td>1910635</td>\n",
       "      <td>0</td>\n",
       "      <td>Paul Bradley</td>\n",
       "      <td>M</td>\n",
       "      <td>9th</td>\n",
       "      <td>66</td>\n",
       "      <td>79</td>\n",
       "    </tr>\n",
       "    <tr>\n",
       "      <th>1</th>\n",
       "      <td>0</td>\n",
       "      <td>Huang High School</td>\n",
       "      <td>District</td>\n",
       "      <td>2917</td>\n",
       "      <td>1910635</td>\n",
       "      <td>1</td>\n",
       "      <td>Victor Smith</td>\n",
       "      <td>M</td>\n",
       "      <td>12th</td>\n",
       "      <td>94</td>\n",
       "      <td>61</td>\n",
       "    </tr>\n",
       "    <tr>\n",
       "      <th>2</th>\n",
       "      <td>0</td>\n",
       "      <td>Huang High School</td>\n",
       "      <td>District</td>\n",
       "      <td>2917</td>\n",
       "      <td>1910635</td>\n",
       "      <td>2</td>\n",
       "      <td>Kevin Rodriguez</td>\n",
       "      <td>M</td>\n",
       "      <td>12th</td>\n",
       "      <td>90</td>\n",
       "      <td>60</td>\n",
       "    </tr>\n",
       "    <tr>\n",
       "      <th>3</th>\n",
       "      <td>0</td>\n",
       "      <td>Huang High School</td>\n",
       "      <td>District</td>\n",
       "      <td>2917</td>\n",
       "      <td>1910635</td>\n",
       "      <td>3</td>\n",
       "      <td>Dr. Richard Scott</td>\n",
       "      <td>M</td>\n",
       "      <td>12th</td>\n",
       "      <td>67</td>\n",
       "      <td>58</td>\n",
       "    </tr>\n",
       "    <tr>\n",
       "      <th>4</th>\n",
       "      <td>0</td>\n",
       "      <td>Huang High School</td>\n",
       "      <td>District</td>\n",
       "      <td>2917</td>\n",
       "      <td>1910635</td>\n",
       "      <td>4</td>\n",
       "      <td>Bonnie Ray</td>\n",
       "      <td>F</td>\n",
       "      <td>9th</td>\n",
       "      <td>97</td>\n",
       "      <td>84</td>\n",
       "    </tr>\n",
       "  </tbody>\n",
       "</table>\n",
       "</div>"
      ],
      "text/plain": [
       "   School ID        school_name      type  size   budget  Student ID  \\\n",
       "0          0  Huang High School  District  2917  1910635           0   \n",
       "1          0  Huang High School  District  2917  1910635           1   \n",
       "2          0  Huang High School  District  2917  1910635           2   \n",
       "3          0  Huang High School  District  2917  1910635           3   \n",
       "4          0  Huang High School  District  2917  1910635           4   \n",
       "\n",
       "        student_name gender grade  reading_score  math_score  \n",
       "0       Paul Bradley      M   9th             66          79  \n",
       "1       Victor Smith      M  12th             94          61  \n",
       "2    Kevin Rodriguez      M  12th             90          60  \n",
       "3  Dr. Richard Scott      M  12th             67          58  \n",
       "4         Bonnie Ray      F   9th             97          84  "
      ]
     },
     "execution_count": 74,
     "metadata": {},
     "output_type": "execute_result"
    }
   ],
   "source": [
    "merged_df.head()"
   ]
  },
  {
   "cell_type": "code",
   "execution_count": 75,
   "id": "40abeec7",
   "metadata": {},
   "outputs": [
    {
     "data": {
      "text/html": [
       "<div>\n",
       "<style scoped>\n",
       "    .dataframe tbody tr th:only-of-type {\n",
       "        vertical-align: middle;\n",
       "    }\n",
       "\n",
       "    .dataframe tbody tr th {\n",
       "        vertical-align: top;\n",
       "    }\n",
       "\n",
       "    .dataframe thead th {\n",
       "        text-align: right;\n",
       "    }\n",
       "</style>\n",
       "<table border=\"1\" class=\"dataframe\">\n",
       "  <thead>\n",
       "    <tr style=\"text-align: right;\">\n",
       "      <th></th>\n",
       "      <th>School ID</th>\n",
       "      <th>School Name</th>\n",
       "      <th>Type</th>\n",
       "      <th>Size</th>\n",
       "      <th>Budget</th>\n",
       "      <th>Student ID</th>\n",
       "      <th>Student Name</th>\n",
       "      <th>Gender</th>\n",
       "      <th>Grade</th>\n",
       "      <th>Reading Score</th>\n",
       "      <th>Math Score</th>\n",
       "    </tr>\n",
       "  </thead>\n",
       "  <tbody>\n",
       "    <tr>\n",
       "      <th>0</th>\n",
       "      <td>0</td>\n",
       "      <td>Huang High School</td>\n",
       "      <td>District</td>\n",
       "      <td>2917</td>\n",
       "      <td>1910635</td>\n",
       "      <td>0</td>\n",
       "      <td>Paul Bradley</td>\n",
       "      <td>M</td>\n",
       "      <td>9th</td>\n",
       "      <td>66</td>\n",
       "      <td>79</td>\n",
       "    </tr>\n",
       "    <tr>\n",
       "      <th>1</th>\n",
       "      <td>0</td>\n",
       "      <td>Huang High School</td>\n",
       "      <td>District</td>\n",
       "      <td>2917</td>\n",
       "      <td>1910635</td>\n",
       "      <td>1</td>\n",
       "      <td>Victor Smith</td>\n",
       "      <td>M</td>\n",
       "      <td>12th</td>\n",
       "      <td>94</td>\n",
       "      <td>61</td>\n",
       "    </tr>\n",
       "    <tr>\n",
       "      <th>2</th>\n",
       "      <td>0</td>\n",
       "      <td>Huang High School</td>\n",
       "      <td>District</td>\n",
       "      <td>2917</td>\n",
       "      <td>1910635</td>\n",
       "      <td>2</td>\n",
       "      <td>Kevin Rodriguez</td>\n",
       "      <td>M</td>\n",
       "      <td>12th</td>\n",
       "      <td>90</td>\n",
       "      <td>60</td>\n",
       "    </tr>\n",
       "    <tr>\n",
       "      <th>3</th>\n",
       "      <td>0</td>\n",
       "      <td>Huang High School</td>\n",
       "      <td>District</td>\n",
       "      <td>2917</td>\n",
       "      <td>1910635</td>\n",
       "      <td>3</td>\n",
       "      <td>Dr. Richard Scott</td>\n",
       "      <td>M</td>\n",
       "      <td>12th</td>\n",
       "      <td>67</td>\n",
       "      <td>58</td>\n",
       "    </tr>\n",
       "    <tr>\n",
       "      <th>4</th>\n",
       "      <td>0</td>\n",
       "      <td>Huang High School</td>\n",
       "      <td>District</td>\n",
       "      <td>2917</td>\n",
       "      <td>1910635</td>\n",
       "      <td>4</td>\n",
       "      <td>Bonnie Ray</td>\n",
       "      <td>F</td>\n",
       "      <td>9th</td>\n",
       "      <td>97</td>\n",
       "      <td>84</td>\n",
       "    </tr>\n",
       "  </tbody>\n",
       "</table>\n",
       "</div>"
      ],
      "text/plain": [
       "   School ID        School Name      Type  Size   Budget  Student ID  \\\n",
       "0          0  Huang High School  District  2917  1910635           0   \n",
       "1          0  Huang High School  District  2917  1910635           1   \n",
       "2          0  Huang High School  District  2917  1910635           2   \n",
       "3          0  Huang High School  District  2917  1910635           3   \n",
       "4          0  Huang High School  District  2917  1910635           4   \n",
       "\n",
       "        Student Name Gender Grade  Reading Score  Math Score  \n",
       "0       Paul Bradley      M   9th             66          79  \n",
       "1       Victor Smith      M  12th             94          61  \n",
       "2    Kevin Rodriguez      M  12th             90          60  \n",
       "3  Dr. Richard Scott      M  12th             67          58  \n",
       "4         Bonnie Ray      F   9th             97          84  "
      ]
     },
     "execution_count": 75,
     "metadata": {},
     "output_type": "execute_result"
    }
   ],
   "source": [
    "# rename columns\n",
    "merged_df = merged_df.rename(columns={\"school_name\": \"School Name\", \n",
    "                                    \"type\": \"Type\", \"size\": \"Size\", \n",
    "                                    \"budget\": \"Budget\", \"student_name\": \"Student Name\", \"gender\": \"Gender\",\n",
    "                                    \"grade\": \"Grade\", \"reading_score\": \"Reading Score\", \"math_score\": \"Math Score\"})\n",
    "merged_df.head()"
   ]
  },
  {
   "cell_type": "code",
   "execution_count": 76,
   "id": "2b33fdba",
   "metadata": {},
   "outputs": [
    {
     "ename": "SyntaxError",
     "evalue": "invalid syntax (3698797053.py, line 1)",
     "output_type": "error",
     "traceback": [
      "\u001b[0;36m  Cell \u001b[0;32mIn[76], line 1\u001b[0;36m\u001b[0m\n\u001b[0;31m    District Summary\u001b[0m\n\u001b[0m             ^\u001b[0m\n\u001b[0;31mSyntaxError\u001b[0m\u001b[0;31m:\u001b[0m invalid syntax\n"
     ]
    }
   ],
   "source": [
    "District Summary"
   ]
  },
  {
   "cell_type": "code",
   "execution_count": 77,
   "id": "b20899cf",
   "metadata": {},
   "outputs": [
    {
     "data": {
      "text/plain": [
       "15"
      ]
     },
     "execution_count": 77,
     "metadata": {},
     "output_type": "execute_result"
    }
   ],
   "source": [
    "# get unique school count\n",
    "school_count = len(merged_df[\"School Name\"].unique())\n",
    "school_count"
   ]
  },
  {
   "cell_type": "code",
   "execution_count": 78,
   "id": "f2508288",
   "metadata": {},
   "outputs": [
    {
     "data": {
      "text/plain": [
       "39170"
      ]
     },
     "execution_count": 78,
     "metadata": {},
     "output_type": "execute_result"
    }
   ],
   "source": [
    "# get count of students\n",
    "student_count = len(merged_df)\n",
    "student_count"
   ]
  },
  {
   "cell_type": "code",
   "execution_count": 79,
   "id": "54672e46",
   "metadata": {},
   "outputs": [
    {
     "data": {
      "text/plain": [
       "24649428"
      ]
     },
     "execution_count": 79,
     "metadata": {},
     "output_type": "execute_result"
    }
   ],
   "source": [
    "# calculate total budget\n",
    "total_budget = merged_df[[\"School Name\", \"Budget\"]]\n",
    "total_budget = total_budget.drop_duplicates()\n",
    "total_budget = total_budget[\"Budget\"].sum()\n",
    "total_budget"
   ]
  },
  {
   "cell_type": "code",
   "execution_count": 80,
   "id": "3a16336a",
   "metadata": {},
   "outputs": [
    {
     "data": {
      "text/plain": [
       "78.98537145774827"
      ]
     },
     "execution_count": 80,
     "metadata": {},
     "output_type": "execute_result"
    }
   ],
   "source": [
    "# calculate average (mean) math score\n",
    "average_math = merged_df[\"Math Score\"].mean()\n",
    "average_math"
   ]
  },
  {
   "cell_type": "code",
   "execution_count": 81,
   "id": "a3441bcb",
   "metadata": {},
   "outputs": [
    {
     "data": {
      "text/plain": [
       "81.87784018381414"
      ]
     },
     "execution_count": 81,
     "metadata": {},
     "output_type": "execute_result"
    }
   ],
   "source": [
    "#calculate average (mean) reading score\n",
    "average_reading = merged_df[\"Reading Score\"].mean()\n",
    "average_reading"
   ]
  },
  {
   "cell_type": "code",
   "execution_count": 82,
   "id": "d3b862e6",
   "metadata": {},
   "outputs": [
    {
     "data": {
      "text/plain": [
       "74.9808526933878"
      ]
     },
     "execution_count": 82,
     "metadata": {},
     "output_type": "execute_result"
    }
   ],
   "source": [
    "# percentage passing math\n",
    "passing_math_count = merged_df[(merged_df[\"Math Score\"] >= 70)].count()[\"Student Name\"]\n",
    "passing_math_percentage = passing_math_count / float(student_count) * 100\n",
    "passing_math_percentage"
   ]
  },
  {
   "cell_type": "code",
   "execution_count": 83,
   "id": "8e89100c",
   "metadata": {},
   "outputs": [
    {
     "data": {
      "text/plain": [
       "85.80546336482001"
      ]
     },
     "execution_count": 83,
     "metadata": {},
     "output_type": "execute_result"
    }
   ],
   "source": [
    "# percentage passing reading\n",
    "passing_reading_count = merged_df[(merged_df[\"Reading Score\"] >= 70)].count()[\"Student Name\"]\n",
    "passing_reading_percentage = passing_reading_count / float(student_count) * 100\n",
    "passing_reading_percentage"
   ]
  },
  {
   "cell_type": "code",
   "execution_count": 84,
   "id": "e212ec2a",
   "metadata": {},
   "outputs": [
    {
     "data": {
      "text/plain": [
       "65.17232575950983"
      ]
     },
     "execution_count": 84,
     "metadata": {},
     "output_type": "execute_result"
    }
   ],
   "source": [
    "# calculate overall passing percentage\n",
    "passing_math_reading_count = merged_df[\n",
    "    (merged_df[\"Math Score\"] >= 70) & (merged_df[\"Reading Score\"] >= 70)\n",
    "].count()[\"Student Name\"]\n",
    "overall_passing_rate = passing_math_reading_count /  float(student_count) * 100\n",
    "overall_passing_rate"
   ]
  },
  {
   "cell_type": "code",
   "execution_count": 85,
   "id": "9a462f4c",
   "metadata": {},
   "outputs": [
    {
     "data": {
      "text/html": [
       "<div>\n",
       "<style scoped>\n",
       "    .dataframe tbody tr th:only-of-type {\n",
       "        vertical-align: middle;\n",
       "    }\n",
       "\n",
       "    .dataframe tbody tr th {\n",
       "        vertical-align: top;\n",
       "    }\n",
       "\n",
       "    .dataframe thead th {\n",
       "        text-align: right;\n",
       "    }\n",
       "</style>\n",
       "<table border=\"1\" class=\"dataframe\">\n",
       "  <thead>\n",
       "    <tr style=\"text-align: right;\">\n",
       "      <th></th>\n",
       "      <th>Total Schools</th>\n",
       "      <th>Total Students</th>\n",
       "      <th>Total Budget</th>\n",
       "      <th>Average Math Score</th>\n",
       "      <th>Average Reading Score</th>\n",
       "      <th>% Passing Math</th>\n",
       "      <th>% Passing Reading</th>\n",
       "      <th>Overall Passing %</th>\n",
       "    </tr>\n",
       "  </thead>\n",
       "  <tbody>\n",
       "    <tr>\n",
       "      <th>0</th>\n",
       "      <td>15</td>\n",
       "      <td>39,170</td>\n",
       "      <td>$24,649,428.00</td>\n",
       "      <td>78.985371</td>\n",
       "      <td>81.87784</td>\n",
       "      <td>74.980853</td>\n",
       "      <td>85.805463</td>\n",
       "      <td>65.172326</td>\n",
       "    </tr>\n",
       "  </tbody>\n",
       "</table>\n",
       "</div>"
      ],
      "text/plain": [
       "   Total Schools Total Students    Total Budget  Average Math Score  \\\n",
       "0             15         39,170  $24,649,428.00           78.985371   \n",
       "\n",
       "   Average Reading Score  % Passing Math  % Passing Reading  Overall Passing %  \n",
       "0               81.87784       74.980853          85.805463          65.172326  "
      ]
     },
     "execution_count": 85,
     "metadata": {},
     "output_type": "execute_result"
    }
   ],
   "source": [
    "# create district summary snapshot\n",
    "district_summary = pd.DataFrame({\"Total Schools\": [school_count],\n",
    "                              \"Total Students\": student_count,\n",
    "                                 \"Total Budget\": total_budget,\n",
    "                              \"Average Math Score\": average_math,\n",
    "                              \"Average Reading Score\": average_reading,\n",
    "                                \"% Passing Math\": passing_math_percentage,\n",
    "                                \"% Passing Reading\": passing_reading_percentage,\n",
    "                                \"Overall Passing %\": overall_passing_rate})\n",
    "# format columns\n",
    "district_summary[\"Total Students\"] = district_summary[\"Total Students\"].map(\"{:,}\".format)\n",
    "district_summary[\"Total Budget\"] = district_summary[\"Total Budget\"].map(\"${:,.2f}\".format)\n",
    "\n",
    "district_summary"
   ]
  },
  {
   "cell_type": "code",
   "execution_count": 86,
   "id": "c9305c8b",
   "metadata": {},
   "outputs": [
    {
     "data": {
      "text/plain": [
       "array(['District', 'Charter'], dtype=object)"
      ]
     },
     "execution_count": 86,
     "metadata": {},
     "output_type": "execute_result"
    }
   ],
   "source": [
    "# select all school types\n",
    "school_types = merged_df[\"Type\"].unique()\n",
    "school_types"
   ]
  },
  {
   "cell_type": "code",
   "execution_count": 87,
   "id": "bdd70cd1",
   "metadata": {},
   "outputs": [
    {
     "data": {
      "text/plain": [
       "12194"
      ]
     },
     "execution_count": 87,
     "metadata": {},
     "output_type": "execute_result"
    }
   ],
   "source": [
    "# per school student counts\n",
    "charter_count = merged_df[merged_df[\"Type\"] == \"Charter\"].count()[\"Student Name\"]\n",
    "district_count = merged_df[merged_df[\"Type\"] == \"District\"].count()[\"Student Name\"]\n",
    "\n",
    "charter_count"
   ]
  },
  {
   "cell_type": "code",
   "execution_count": 88,
   "id": "8e9e61ba",
   "metadata": {},
   "outputs": [
    {
     "data": {
      "text/plain": [
       "26976"
      ]
     },
     "execution_count": 88,
     "metadata": {},
     "output_type": "execute_result"
    }
   ],
   "source": [
    "district_count"
   ]
  },
  {
   "cell_type": "code",
   "execution_count": 109,
   "id": "fb787348",
   "metadata": {},
   "outputs": [],
   "source": [
    "# per school budget\n",
    "per_school_budget = schools_df.set_index('school_name')['budget']"
   ]
  },
  {
   "cell_type": "code",
   "execution_count": 111,
   "id": "7c1e21c0",
   "metadata": {},
   "outputs": [],
   "source": [
    "# group by school \n",
    "group_by_school = merged_df.set_index(\"School Name\").groupby([\"School Name\"])"
   ]
  },
  {
   "cell_type": "code",
   "execution_count": 112,
   "id": "ee1d73b0",
   "metadata": {},
   "outputs": [],
   "source": [
    "# group by school type\n",
    "school_types = schools_df.set_index('school_name')['type']"
   ]
  },
  {
   "cell_type": "code",
   "execution_count": 114,
   "id": "b0bcd2bd",
   "metadata": {},
   "outputs": [],
   "source": [
    "# students per school\n",
    "students_by_school =  group_by_school['Student ID'].count()"
   ]
  },
  {
   "cell_type": "code",
   "execution_count": 115,
   "id": "6fa307df",
   "metadata": {},
   "outputs": [],
   "source": [
    "# budget per student\n",
    "budget_per_student = schools_df.set_index('school_name')['budget'] / schools_df.set_index('school_name')['size']"
   ]
  },
  {
   "cell_type": "code",
   "execution_count": 117,
   "id": "02c930e8",
   "metadata": {},
   "outputs": [],
   "source": [
    "# average scores by school \n",
    "average_math = group_by_school['Math Score'].mean()\n",
    "average_reading = group_by_school['Reading Score'].mean()"
   ]
  },
  {
   "cell_type": "code",
   "execution_count": null,
   "id": "b6278e42",
   "metadata": {},
   "outputs": [],
   "source": [
    "# percentage passing\n",
    "passing_math = merged_df[merged_df['Math Score'] >= 70].groupby('School Name')['Student ID'].count() / students_by_school \n",
    "passing_reading = merged_df[merged_df['Reading Score'] >= 70].groupby('School Name')['Student ID'].count() / students_by_school\n",
    "overall = merged_df[(merged_df['Reading Score'] >= 70) & (merged_df['Math Score'] >= 70)].groupby('School Name')['Student ID'].count()/stu_per_sch "
   ]
  },
  {
   "cell_type": "code",
   "execution_count": 107,
   "id": "baa12728",
   "metadata": {},
   "outputs": [
    {
     "data": {
      "text/plain": [
       "<pandas.core.groupby.generic.DataFrameGroupBy object at 0x7fa56fecaa10>"
      ]
     },
     "execution_count": 107,
     "metadata": {},
     "output_type": "execute_result"
    }
   ],
   "source": [
    "# create school summary snapshot\n",
    "\n",
    "\n",
    "\n"
   ]
  },
  {
   "cell_type": "code",
   "execution_count": 64,
   "id": "a4f32e24",
   "metadata": {},
   "outputs": [
    {
     "ename": "KeyError",
     "evalue": "\"['Overall Passing %'] not in index\"",
     "output_type": "error",
     "traceback": [
      "\u001b[0;31m---------------------------------------------------------------------------\u001b[0m",
      "\u001b[0;31mKeyError\u001b[0m                                  Traceback (most recent call last)",
      "Cell \u001b[0;32mIn[64], line 3\u001b[0m\n\u001b[1;32m      1\u001b[0m \u001b[38;5;66;03m# calculate highest performing schools by % overall passing\u001b[39;00m\n\u001b[1;32m      2\u001b[0m school_name \u001b[38;5;241m=\u001b[39m merged_df[\u001b[38;5;124m\"\u001b[39m\u001b[38;5;124mSchool Name\u001b[39m\u001b[38;5;124m\"\u001b[39m]\u001b[38;5;241m.\u001b[39munique()\n\u001b[0;32m----> 3\u001b[0m highest_passing \u001b[38;5;241m=\u001b[39m \u001b[43mmerged_df\u001b[49m\u001b[43m[\u001b[49m\u001b[43m[\u001b[49m\u001b[38;5;124;43m\"\u001b[39;49m\u001b[38;5;124;43mSchool Name\u001b[39;49m\u001b[38;5;124;43m\"\u001b[39;49m\u001b[43m,\u001b[49m\u001b[38;5;124;43m\"\u001b[39;49m\u001b[38;5;124;43mOverall Passing \u001b[39;49m\u001b[38;5;124;43m%\u001b[39;49m\u001b[38;5;124;43m\"\u001b[39;49m\u001b[43m]\u001b[49m\u001b[43m]\u001b[49m\n",
      "File \u001b[0;32m~/anaconda3/envs/dev/lib/python3.10/site-packages/pandas/core/frame.py:3813\u001b[0m, in \u001b[0;36mDataFrame.__getitem__\u001b[0;34m(self, key)\u001b[0m\n\u001b[1;32m   3811\u001b[0m     \u001b[38;5;28;01mif\u001b[39;00m is_iterator(key):\n\u001b[1;32m   3812\u001b[0m         key \u001b[38;5;241m=\u001b[39m \u001b[38;5;28mlist\u001b[39m(key)\n\u001b[0;32m-> 3813\u001b[0m     indexer \u001b[38;5;241m=\u001b[39m \u001b[38;5;28;43mself\u001b[39;49m\u001b[38;5;241;43m.\u001b[39;49m\u001b[43mcolumns\u001b[49m\u001b[38;5;241;43m.\u001b[39;49m\u001b[43m_get_indexer_strict\u001b[49m\u001b[43m(\u001b[49m\u001b[43mkey\u001b[49m\u001b[43m,\u001b[49m\u001b[43m \u001b[49m\u001b[38;5;124;43m\"\u001b[39;49m\u001b[38;5;124;43mcolumns\u001b[39;49m\u001b[38;5;124;43m\"\u001b[39;49m\u001b[43m)\u001b[49m[\u001b[38;5;241m1\u001b[39m]\n\u001b[1;32m   3815\u001b[0m \u001b[38;5;66;03m# take() does not accept boolean indexers\u001b[39;00m\n\u001b[1;32m   3816\u001b[0m \u001b[38;5;28;01mif\u001b[39;00m \u001b[38;5;28mgetattr\u001b[39m(indexer, \u001b[38;5;124m\"\u001b[39m\u001b[38;5;124mdtype\u001b[39m\u001b[38;5;124m\"\u001b[39m, \u001b[38;5;28;01mNone\u001b[39;00m) \u001b[38;5;241m==\u001b[39m \u001b[38;5;28mbool\u001b[39m:\n",
      "File \u001b[0;32m~/anaconda3/envs/dev/lib/python3.10/site-packages/pandas/core/indexes/base.py:6070\u001b[0m, in \u001b[0;36mIndex._get_indexer_strict\u001b[0;34m(self, key, axis_name)\u001b[0m\n\u001b[1;32m   6067\u001b[0m \u001b[38;5;28;01melse\u001b[39;00m:\n\u001b[1;32m   6068\u001b[0m     keyarr, indexer, new_indexer \u001b[38;5;241m=\u001b[39m \u001b[38;5;28mself\u001b[39m\u001b[38;5;241m.\u001b[39m_reindex_non_unique(keyarr)\n\u001b[0;32m-> 6070\u001b[0m \u001b[38;5;28;43mself\u001b[39;49m\u001b[38;5;241;43m.\u001b[39;49m\u001b[43m_raise_if_missing\u001b[49m\u001b[43m(\u001b[49m\u001b[43mkeyarr\u001b[49m\u001b[43m,\u001b[49m\u001b[43m \u001b[49m\u001b[43mindexer\u001b[49m\u001b[43m,\u001b[49m\u001b[43m \u001b[49m\u001b[43maxis_name\u001b[49m\u001b[43m)\u001b[49m\n\u001b[1;32m   6072\u001b[0m keyarr \u001b[38;5;241m=\u001b[39m \u001b[38;5;28mself\u001b[39m\u001b[38;5;241m.\u001b[39mtake(indexer)\n\u001b[1;32m   6073\u001b[0m \u001b[38;5;28;01mif\u001b[39;00m \u001b[38;5;28misinstance\u001b[39m(key, Index):\n\u001b[1;32m   6074\u001b[0m     \u001b[38;5;66;03m# GH 42790 - Preserve name from an Index\u001b[39;00m\n",
      "File \u001b[0;32m~/anaconda3/envs/dev/lib/python3.10/site-packages/pandas/core/indexes/base.py:6133\u001b[0m, in \u001b[0;36mIndex._raise_if_missing\u001b[0;34m(self, key, indexer, axis_name)\u001b[0m\n\u001b[1;32m   6130\u001b[0m     \u001b[38;5;28;01mraise\u001b[39;00m \u001b[38;5;167;01mKeyError\u001b[39;00m(\u001b[38;5;124mf\u001b[39m\u001b[38;5;124m\"\u001b[39m\u001b[38;5;124mNone of [\u001b[39m\u001b[38;5;132;01m{\u001b[39;00mkey\u001b[38;5;132;01m}\u001b[39;00m\u001b[38;5;124m] are in the [\u001b[39m\u001b[38;5;132;01m{\u001b[39;00maxis_name\u001b[38;5;132;01m}\u001b[39;00m\u001b[38;5;124m]\u001b[39m\u001b[38;5;124m\"\u001b[39m)\n\u001b[1;32m   6132\u001b[0m not_found \u001b[38;5;241m=\u001b[39m \u001b[38;5;28mlist\u001b[39m(ensure_index(key)[missing_mask\u001b[38;5;241m.\u001b[39mnonzero()[\u001b[38;5;241m0\u001b[39m]]\u001b[38;5;241m.\u001b[39munique())\n\u001b[0;32m-> 6133\u001b[0m \u001b[38;5;28;01mraise\u001b[39;00m \u001b[38;5;167;01mKeyError\u001b[39;00m(\u001b[38;5;124mf\u001b[39m\u001b[38;5;124m\"\u001b[39m\u001b[38;5;132;01m{\u001b[39;00mnot_found\u001b[38;5;132;01m}\u001b[39;00m\u001b[38;5;124m not in index\u001b[39m\u001b[38;5;124m\"\u001b[39m)\n",
      "\u001b[0;31mKeyError\u001b[0m: \"['Overall Passing %'] not in index\""
     ]
    }
   ],
   "source": [
    "# calculate highest performing schools by % overall passing\n",
    "#school_name = merged_df[\"School Name\"].unique()\n",
    "#highest_passing = district_summary[[\"School Name\",\"Overall Passing %\"]]\n",
    "#top_schools = pd.DataFrame({\"School Name:\": school_name,\n",
    "    #                       \"Overall Passing %\": highest_passing})\n",
    "#top_schools.head(6)"
   ]
  },
  {
   "cell_type": "code",
   "execution_count": null,
   "id": "3a654b22",
   "metadata": {},
   "outputs": [],
   "source": []
  }
 ],
 "metadata": {
  "kernelspec": {
   "display_name": "Python 3 (ipykernel)",
   "language": "python",
   "name": "python3"
  },
  "language_info": {
   "codemirror_mode": {
    "name": "ipython",
    "version": 3
   },
   "file_extension": ".py",
   "mimetype": "text/x-python",
   "name": "python",
   "nbconvert_exporter": "python",
   "pygments_lexer": "ipython3",
   "version": "3.10.11"
  }
 },
 "nbformat": 4,
 "nbformat_minor": 5
}
